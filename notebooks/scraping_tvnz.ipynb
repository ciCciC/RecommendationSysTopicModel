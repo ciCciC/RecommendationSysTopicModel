{
 "cells": [
  {
   "cell_type": "code",
   "execution_count": 3,
   "metadata": {
    "collapsed": true
   },
   "outputs": [],
   "source": [
    "import pandas as pd\n",
    "from bs4 import BeautifulSoup\n",
    "import numpy as np\n",
    "import glob"
   ]
  },
  {
   "cell_type": "markdown",
   "source": [
    "read files"
   ],
   "metadata": {
    "collapsed": false
   }
  },
  {
   "cell_type": "code",
   "execution_count": 4,
   "outputs": [],
   "source": [
    "web_pages_dir = '../../personalisation_project/TVNZ/*/*'\n",
    "files = glob.glob(web_pages_dir)"
   ],
   "metadata": {
    "collapsed": false,
    "pycharm": {
     "name": "#%%\n"
    }
   }
  },
  {
   "cell_type": "markdown",
   "source": [
    "scraping"
   ],
   "metadata": {
    "collapsed": false
   }
  },
  {
   "cell_type": "code",
   "execution_count": 5,
   "outputs": [],
   "source": [
    "def fetch_meta(soup):\n",
    "    image = soup.select_one('.Hero-image-inner img').attrs['src'].strip()\n",
    "    content_container = soup.select_one('.Hero-container-content-inner')\n",
    "    title = content_container.select_one('.Hero-title a').text.strip()\n",
    "    description = content_container.select_one('.Hero-description').text.strip()\n",
    "\n",
    "    return {\n",
    "        'title': title,\n",
    "        'description': description,\n",
    "        'image_url': image\n",
    "    }\n",
    "\n",
    "\n",
    "def fetch_episodes(soup):\n",
    "    episodes = soup.select_one('.Episodes-list')\n",
    "\n",
    "    # for episode in episodes:\n",
    "    #     episode.select_one('img')\n"
   ],
   "metadata": {
    "collapsed": false,
    "pycharm": {
     "name": "#%%\n"
    }
   }
  },
  {
   "cell_type": "code",
   "execution_count": 6,
   "outputs": [
    {
     "name": "stdout",
     "output_type": "stream",
     "text": [
      "documentary/proof.html\n",
      "{'title': 'Proof', 'description': \"Award-winning journalist, Guyon Espiner, investigates New Zealand's alcohol industry and drinking culture.\", 'image_url': 'https://play-images-prod-ctf.tech.tvnz.co.nz/api/v1/web/image/1HLvx9bsvGSw78TmOSsHNn/3351481b423082f88b3057cfe1944091/OD_Proof_coverimg.png.3351481b423082f88b3057cfe1944091.jpg?width=1600&height=457', 'category': 'documentary'}\n",
      "CPU times: user 29 ms, sys: 1.8 ms, total: 30.8 ms\n",
      "Wall time: 30.2 ms\n"
     ]
    }
   ],
   "source": [
    "%%time\n",
    "\n",
    "data = []\n",
    "\n",
    "for file in files[0:1]:\n",
    "    splitted = file.split('/')\n",
    "    category = splitted[4]\n",
    "    file_path = '/'.join(splitted[4:])\n",
    "\n",
    "    soup = BeautifulSoup(open(file), 'html.parser')\n",
    "\n",
    "    content = fetch_meta(soup)\n",
    "    content['category'] = category\n",
    "\n",
    "    print(file_path)\n",
    "    print(content)"
   ],
   "metadata": {
    "collapsed": false,
    "pycharm": {
     "name": "#%%\n"
    }
   }
  },
  {
   "cell_type": "code",
   "execution_count": null,
   "outputs": [],
   "source": [],
   "metadata": {
    "collapsed": false,
    "pycharm": {
     "name": "#%%\n"
    }
   }
  }
 ],
 "metadata": {
  "kernelspec": {
   "display_name": "Python 3",
   "language": "python",
   "name": "python3"
  },
  "language_info": {
   "codemirror_mode": {
    "name": "ipython",
    "version": 2
   },
   "file_extension": ".py",
   "mimetype": "text/x-python",
   "name": "python",
   "nbconvert_exporter": "python",
   "pygments_lexer": "ipython2",
   "version": "2.7.6"
  }
 },
 "nbformat": 4,
 "nbformat_minor": 0
}