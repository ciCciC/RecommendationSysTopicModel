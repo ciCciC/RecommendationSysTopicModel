{
 "cells": [
  {
   "cell_type": "code",
   "execution_count": 6,
   "metadata": {
    "collapsed": true
   },
   "outputs": [],
   "source": [
    "import pandas as pd\n",
    "from bs4 import BeautifulSoup\n",
    "import numpy as np\n",
    "import glob"
   ]
  },
  {
   "cell_type": "markdown",
   "source": [
    "read files"
   ],
   "metadata": {
    "collapsed": false
   }
  },
  {
   "cell_type": "code",
   "execution_count": 7,
   "outputs": [],
   "source": [
    "web_pages_dir = '../../personalisation_project/TVNZ/*/*'\n",
    "files = glob.glob(web_pages_dir)"
   ],
   "metadata": {
    "collapsed": false,
    "pycharm": {
     "name": "#%%\n"
    }
   }
  },
  {
   "cell_type": "markdown",
   "source": [
    "scraping"
   ],
   "metadata": {
    "collapsed": false
   }
  },
  {
   "cell_type": "code",
   "execution_count": 100,
   "outputs": [],
   "source": [
    "def fetch_meta(soup):\n",
    "    image = soup.select_one('.Hero-image-inner img').attrs['src'].strip()\n",
    "    content_container = soup.select_one('.Hero-container-content-inner')\n",
    "    title = content_container.select_one('.Hero-title a').text.strip()\n",
    "    description = content_container.select_one('.Hero-description').text.strip()\n",
    "\n",
    "    return {\n",
    "        'title': title,\n",
    "        'description': description,\n",
    "        'image_url': image\n",
    "    }\n",
    "\n",
    "\n",
    "def fetch_episodes(soup, unique_id):\n",
    "    episodes = soup.select('.Episodes-list')\n",
    "\n",
    "    data = []\n",
    "\n",
    "    for episode in episodes:\n",
    "        image_dump = episode.select_one('img').attrs['src'].strip()\n",
    "\n",
    "        title = episode.select_one('.Episode-title-label').text.strip()\n",
    "        description_container = episode.select_one('.Episode-description')\n",
    "        rating = description_container.select_one('.Episode-rating').text.strip()\n",
    "        description = description_container.text.strip()\n",
    "        description = description[len(rating):].strip()\n",
    "\n",
    "        data.append({\n",
    "            'title':title,\n",
    "            'rating': rating,\n",
    "            'description': description,\n",
    "            'image_dump': image_dump,\n",
    "            'tv_program_id': unique_id\n",
    "        })\n",
    "\n",
    "    return data\n",
    "\n"
   ],
   "metadata": {
    "collapsed": false,
    "pycharm": {
     "name": "#%%\n"
    }
   }
  },
  {
   "cell_type": "code",
   "execution_count": 105,
   "outputs": [
    {
     "name": "stdout",
     "output_type": "stream",
     "text": [
      "documentary/proof.html\n",
      "CPU times: user 37.6 ms, sys: 2.49 ms, total: 40.1 ms\n",
      "Wall time: 38.5 ms\n"
     ]
    }
   ],
   "source": [
    "%%time\n",
    "\n",
    "tvprogram_data = []\n",
    "episodes_data = []\n",
    "\n",
    "for idx in range(len(files)):\n",
    "    unique_id = idx\n",
    "    file = files[idx]\n",
    "    splitted = file.split('/')\n",
    "    category = splitted[4]\n",
    "    file_path = '/'.join(splitted[4:])\n",
    "\n",
    "    print(file_path)\n",
    "\n",
    "    soup = BeautifulSoup(open(file), 'html.parser')\n",
    "\n",
    "    content = fetch_meta(soup)\n",
    "    content['tv_program_id'] = unique_id\n",
    "    content['category'] = category\n",
    "\n",
    "    episodes = fetch_episodes(soup, unique_id)\n",
    "\n",
    "    tvprogram_data.append(content)\n",
    "    episodes_data += episodes\n",
    "\n",
    "    break"
   ],
   "metadata": {
    "collapsed": false,
    "pycharm": {
     "name": "#%%\n"
    }
   }
  },
  {
   "cell_type": "code",
   "execution_count": 106,
   "outputs": [
    {
     "data": {
      "text/plain": "   title                                        description  \\\n0  Proof  Award-winning journalist, Guyon Espiner, inves...   \n\n                                           image_url  tv_program_id  \\\n0  https://play-images-prod-ctf.tech.tvnz.co.nz/a...              0   \n\n      category  \n0  documentary  ",
      "text/html": "<div>\n<style scoped>\n    .dataframe tbody tr th:only-of-type {\n        vertical-align: middle;\n    }\n\n    .dataframe tbody tr th {\n        vertical-align: top;\n    }\n\n    .dataframe thead th {\n        text-align: right;\n    }\n</style>\n<table border=\"1\" class=\"dataframe\">\n  <thead>\n    <tr style=\"text-align: right;\">\n      <th></th>\n      <th>title</th>\n      <th>description</th>\n      <th>image_url</th>\n      <th>tv_program_id</th>\n      <th>category</th>\n    </tr>\n  </thead>\n  <tbody>\n    <tr>\n      <th>0</th>\n      <td>Proof</td>\n      <td>Award-winning journalist, Guyon Espiner, inves...</td>\n      <td>https://play-images-prod-ctf.tech.tvnz.co.nz/a...</td>\n      <td>0</td>\n      <td>documentary</td>\n    </tr>\n  </tbody>\n</table>\n</div>"
     },
     "execution_count": 106,
     "metadata": {},
     "output_type": "execute_result"
    }
   ],
   "source": [
    "df_tv_programs = pd.DataFrame(tvprogram_data)\n",
    "df_tv_programs.head()"
   ],
   "metadata": {
    "collapsed": false,
    "pycharm": {
     "name": "#%%\n"
    }
   }
  },
  {
   "cell_type": "code",
   "execution_count": null,
   "outputs": [],
   "source": [
    "df_tv_programs.to_csv('../data/tv_programs.csv', index=False)"
   ],
   "metadata": {
    "collapsed": false,
    "pycharm": {
     "name": "#%%\n"
    }
   }
  },
  {
   "cell_type": "code",
   "execution_count": null,
   "outputs": [],
   "source": [],
   "metadata": {
    "collapsed": false,
    "pycharm": {
     "name": "#%%\n"
    }
   }
  },
  {
   "cell_type": "code",
   "execution_count": 109,
   "outputs": [
    {
     "data": {
      "text/plain": "   title rating                                        description  \\\n0  Proof     ML  Award-winning journalist Guyon Espiner looks i...   \n\n                                          image_dump  tv_program_id  \n0  data:image/jpeg;base64,/9j/4AAQSkZJRgABAQEASAB...              0  ",
      "text/html": "<div>\n<style scoped>\n    .dataframe tbody tr th:only-of-type {\n        vertical-align: middle;\n    }\n\n    .dataframe tbody tr th {\n        vertical-align: top;\n    }\n\n    .dataframe thead th {\n        text-align: right;\n    }\n</style>\n<table border=\"1\" class=\"dataframe\">\n  <thead>\n    <tr style=\"text-align: right;\">\n      <th></th>\n      <th>title</th>\n      <th>rating</th>\n      <th>description</th>\n      <th>image_dump</th>\n      <th>tv_program_id</th>\n    </tr>\n  </thead>\n  <tbody>\n    <tr>\n      <th>0</th>\n      <td>Proof</td>\n      <td>ML</td>\n      <td>Award-winning journalist Guyon Espiner looks i...</td>\n      <td>data:image/jpeg;base64,/9j/4AAQSkZJRgABAQEASAB...</td>\n      <td>0</td>\n    </tr>\n  </tbody>\n</table>\n</div>"
     },
     "execution_count": 109,
     "metadata": {},
     "output_type": "execute_result"
    }
   ],
   "source": [
    "df_episodes = pd.DataFrame(episodes_data)\n",
    "df_episodes.head()"
   ],
   "metadata": {
    "collapsed": false,
    "pycharm": {
     "name": "#%%\n"
    }
   }
  },
  {
   "cell_type": "code",
   "execution_count": null,
   "outputs": [],
   "source": [
    "df_episodes.to_csv('../data/episodes.csv', index=False)"
   ],
   "metadata": {
    "collapsed": false,
    "pycharm": {
     "name": "#%%\n"
    }
   }
  }
 ],
 "metadata": {
  "kernelspec": {
   "display_name": "Python 3",
   "language": "python",
   "name": "python3"
  },
  "language_info": {
   "codemirror_mode": {
    "name": "ipython",
    "version": 2
   },
   "file_extension": ".py",
   "mimetype": "text/x-python",
   "name": "python",
   "nbconvert_exporter": "python",
   "pygments_lexer": "ipython2",
   "version": "2.7.6"
  }
 },
 "nbformat": 4,
 "nbformat_minor": 0
}