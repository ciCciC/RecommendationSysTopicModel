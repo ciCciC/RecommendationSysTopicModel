{
 "cells": [
  {
   "cell_type": "markdown",
   "source": [
    "### Here we will apply some simulations:\n",
    "- fake users\n",
    "- user likes\n",
    "- user logs"
   ],
   "metadata": {
    "collapsed": false
   }
  },
  {
   "cell_type": "code",
   "execution_count": 2,
   "outputs": [],
   "source": [
    "import pandas as pd\n",
    "import numpy as np\n",
    "from sklearn.metrics.pairwise import cosine_similarity"
   ],
   "metadata": {
    "collapsed": false,
    "pycharm": {
     "name": "#%%\n"
    }
   }
  },
  {
   "cell_type": "markdown",
   "source": [
    "### Fake users"
   ],
   "metadata": {
    "collapsed": false,
    "pycharm": {
     "name": "#%% md\n"
    }
   }
  },
  {
   "cell_type": "code",
   "execution_count": 95,
   "outputs": [],
   "source": [
    "df_fake_users = pd.read_csv('../data/fake_users.csv')\n",
    "df_fake_users = df_fake_users[['user_id', 'username', 'gender']]"
   ],
   "metadata": {
    "collapsed": false,
    "pycharm": {
     "name": "#%%\n"
    }
   }
  },
  {
   "cell_type": "code",
   "execution_count": 96,
   "outputs": [],
   "source": [
    "df_fake_users.iloc[0] = [0, 'koray', 'male']\n",
    "df_fake_users.iloc[1] = [1, 'maryam', 'female']"
   ],
   "metadata": {
    "collapsed": false,
    "pycharm": {
     "name": "#%%\n"
    }
   }
  },
  {
   "cell_type": "code",
   "execution_count": 98,
   "outputs": [],
   "source": [
    "df_fake_users.to_csv('../data/fake_users.csv', index=False)"
   ],
   "metadata": {
    "collapsed": false,
    "pycharm": {
     "name": "#%%\n"
    }
   }
  },
  {
   "cell_type": "code",
   "execution_count": 99,
   "outputs": [
    {
     "data": {
      "text/plain": "   user_id      username  gender\n0        0         koray    male\n1        1        maryam  female\n2        2      Roolearm  female\n3        3     Alich1952  female\n4        4       Evisold    male\n5        5      Amor2010  female\n6        6      Gert1963  female\n7        7       Frorcut  female\n8        8     Ablee2016    male\n9        9  Notiontery71  female",
      "text/html": "<div>\n<style scoped>\n    .dataframe tbody tr th:only-of-type {\n        vertical-align: middle;\n    }\n\n    .dataframe tbody tr th {\n        vertical-align: top;\n    }\n\n    .dataframe thead th {\n        text-align: right;\n    }\n</style>\n<table border=\"1\" class=\"dataframe\">\n  <thead>\n    <tr style=\"text-align: right;\">\n      <th></th>\n      <th>user_id</th>\n      <th>username</th>\n      <th>gender</th>\n    </tr>\n  </thead>\n  <tbody>\n    <tr>\n      <th>0</th>\n      <td>0</td>\n      <td>koray</td>\n      <td>male</td>\n    </tr>\n    <tr>\n      <th>1</th>\n      <td>1</td>\n      <td>maryam</td>\n      <td>female</td>\n    </tr>\n    <tr>\n      <th>2</th>\n      <td>2</td>\n      <td>Roolearm</td>\n      <td>female</td>\n    </tr>\n    <tr>\n      <th>3</th>\n      <td>3</td>\n      <td>Alich1952</td>\n      <td>female</td>\n    </tr>\n    <tr>\n      <th>4</th>\n      <td>4</td>\n      <td>Evisold</td>\n      <td>male</td>\n    </tr>\n    <tr>\n      <th>5</th>\n      <td>5</td>\n      <td>Amor2010</td>\n      <td>female</td>\n    </tr>\n    <tr>\n      <th>6</th>\n      <td>6</td>\n      <td>Gert1963</td>\n      <td>female</td>\n    </tr>\n    <tr>\n      <th>7</th>\n      <td>7</td>\n      <td>Frorcut</td>\n      <td>female</td>\n    </tr>\n    <tr>\n      <th>8</th>\n      <td>8</td>\n      <td>Ablee2016</td>\n      <td>male</td>\n    </tr>\n    <tr>\n      <th>9</th>\n      <td>9</td>\n      <td>Notiontery71</td>\n      <td>female</td>\n    </tr>\n  </tbody>\n</table>\n</div>"
     },
     "execution_count": 99,
     "metadata": {},
     "output_type": "execute_result"
    }
   ],
   "source": [
    "pd.read_csv('../data/fake_users.csv').head(10)"
   ],
   "metadata": {
    "collapsed": false,
    "pycharm": {
     "name": "#%%\n"
    }
   }
  },
  {
   "cell_type": "markdown",
   "source": [
    "#### User likes"
   ],
   "metadata": {
    "collapsed": false
   }
  },
  {
   "cell_type": "code",
   "execution_count": 103,
   "outputs": [],
   "source": [
    "df_tv_programs = pd.read_csv('../data/tv_programs_and_episodes.csv')"
   ],
   "metadata": {
    "collapsed": false,
    "pycharm": {
     "name": "#%%\n"
    }
   }
  },
  {
   "cell_type": "code",
   "execution_count": 104,
   "outputs": [
    {
     "data": {
      "text/plain": "0     0\n2     1\n4     2\n7     3\n9     4\n11    5\n17    6\n20    7\n22    8\n24    9\nName: tv_program_id, dtype: int64"
     },
     "execution_count": 104,
     "metadata": {},
     "output_type": "execute_result"
    }
   ],
   "source": [
    "df_tv_programs_ids = df_tv_programs[df_tv_programs.is_season == 0]['tv_program_id']\n",
    "df_tv_programs_ids[:10]"
   ],
   "metadata": {
    "collapsed": false,
    "pycharm": {
     "name": "#%%\n"
    }
   }
  },
  {
   "cell_type": "code",
   "execution_count": 105,
   "outputs": [],
   "source": [
    "df_fake_users = pd.read_csv('../data/fake_users.csv')['user_id']"
   ],
   "metadata": {
    "collapsed": false,
    "pycharm": {
     "name": "#%%\n"
    }
   }
  },
  {
   "cell_type": "code",
   "execution_count": 107,
   "outputs": [],
   "source": [
    "df_user_likes = pd.DataFrame(index=df_fake_users.values, columns=df_tv_programs_ids.values)"
   ],
   "metadata": {
    "collapsed": false,
    "pycharm": {
     "name": "#%%\n"
    }
   }
  },
  {
   "cell_type": "code",
   "execution_count": 108,
   "outputs": [
    {
     "name": "stdout",
     "output_type": "stream",
     "text": [
      "CPU times: user 435 ms, sys: 12.5 ms, total: 447 ms\n",
      "Wall time: 446 ms\n"
     ]
    }
   ],
   "source": [
    "%%time\n",
    "\n",
    "width = len(df_user_likes.columns)\n",
    "for idx in range(len(df_user_likes)):\n",
    "    df_user_likes.iloc[idx, ] = np.random.randint(0, 2,size=width)"
   ],
   "metadata": {
    "collapsed": false,
    "pycharm": {
     "name": "#%%\n"
    }
   }
  },
  {
   "cell_type": "code",
   "execution_count": 109,
   "outputs": [
    {
     "data": {
      "text/plain": "  0    1    2    3    4    5    6    7    8    9     ... 2786 2787 2788 2789  \\\n0    0    1    0    0    0    1    0    1    0    0  ...    0    1    0    0   \n1    0    1    1    0    1    0    1    0    0    0  ...    1    1    1    0   \n2    0    1    1    0    1    0    0    0    1    0  ...    1    0    0    1   \n3    0    1    1    0    0    0    1    1    0    0  ...    1    1    1    0   \n4    1    0    0    1    0    0    1    0    0    0  ...    1    1    0    1   \n5    0    0    1    1    0    0    1    1    1    0  ...    0    0    1    1   \n6    0    0    0    1    0    1    1    1    0    1  ...    0    1    1    1   \n7    1    1    1    0    1    1    1    0    1    1  ...    0    0    0    0   \n8    1    0    0    0    1    1    0    0    1    1  ...    1    0    1    1   \n9    0    0    0    0    1    0    1    1    1    1  ...    1    1    1    0   \n\n  2790 2791 2792 2793 2794 2795  \n0    0    0    0    0    1    1  \n1    0    0    1    1    0    1  \n2    1    0    1    1    0    1  \n3    1    1    1    0    1    0  \n4    0    1    1    0    0    0  \n5    0    0    0    0    0    1  \n6    0    0    1    1    0    0  \n7    1    1    0    0    0    0  \n8    1    0    1    1    1    1  \n9    0    0    0    0    0    1  \n\n[10 rows x 2796 columns]",
      "text/html": "<div>\n<style scoped>\n    .dataframe tbody tr th:only-of-type {\n        vertical-align: middle;\n    }\n\n    .dataframe tbody tr th {\n        vertical-align: top;\n    }\n\n    .dataframe thead th {\n        text-align: right;\n    }\n</style>\n<table border=\"1\" class=\"dataframe\">\n  <thead>\n    <tr style=\"text-align: right;\">\n      <th></th>\n      <th>0</th>\n      <th>1</th>\n      <th>2</th>\n      <th>3</th>\n      <th>4</th>\n      <th>5</th>\n      <th>6</th>\n      <th>7</th>\n      <th>8</th>\n      <th>9</th>\n      <th>...</th>\n      <th>2786</th>\n      <th>2787</th>\n      <th>2788</th>\n      <th>2789</th>\n      <th>2790</th>\n      <th>2791</th>\n      <th>2792</th>\n      <th>2793</th>\n      <th>2794</th>\n      <th>2795</th>\n    </tr>\n  </thead>\n  <tbody>\n    <tr>\n      <th>0</th>\n      <td>0</td>\n      <td>1</td>\n      <td>0</td>\n      <td>0</td>\n      <td>0</td>\n      <td>1</td>\n      <td>0</td>\n      <td>1</td>\n      <td>0</td>\n      <td>0</td>\n      <td>...</td>\n      <td>0</td>\n      <td>1</td>\n      <td>0</td>\n      <td>0</td>\n      <td>0</td>\n      <td>0</td>\n      <td>0</td>\n      <td>0</td>\n      <td>1</td>\n      <td>1</td>\n    </tr>\n    <tr>\n      <th>1</th>\n      <td>0</td>\n      <td>1</td>\n      <td>1</td>\n      <td>0</td>\n      <td>1</td>\n      <td>0</td>\n      <td>1</td>\n      <td>0</td>\n      <td>0</td>\n      <td>0</td>\n      <td>...</td>\n      <td>1</td>\n      <td>1</td>\n      <td>1</td>\n      <td>0</td>\n      <td>0</td>\n      <td>0</td>\n      <td>1</td>\n      <td>1</td>\n      <td>0</td>\n      <td>1</td>\n    </tr>\n    <tr>\n      <th>2</th>\n      <td>0</td>\n      <td>1</td>\n      <td>1</td>\n      <td>0</td>\n      <td>1</td>\n      <td>0</td>\n      <td>0</td>\n      <td>0</td>\n      <td>1</td>\n      <td>0</td>\n      <td>...</td>\n      <td>1</td>\n      <td>0</td>\n      <td>0</td>\n      <td>1</td>\n      <td>1</td>\n      <td>0</td>\n      <td>1</td>\n      <td>1</td>\n      <td>0</td>\n      <td>1</td>\n    </tr>\n    <tr>\n      <th>3</th>\n      <td>0</td>\n      <td>1</td>\n      <td>1</td>\n      <td>0</td>\n      <td>0</td>\n      <td>0</td>\n      <td>1</td>\n      <td>1</td>\n      <td>0</td>\n      <td>0</td>\n      <td>...</td>\n      <td>1</td>\n      <td>1</td>\n      <td>1</td>\n      <td>0</td>\n      <td>1</td>\n      <td>1</td>\n      <td>1</td>\n      <td>0</td>\n      <td>1</td>\n      <td>0</td>\n    </tr>\n    <tr>\n      <th>4</th>\n      <td>1</td>\n      <td>0</td>\n      <td>0</td>\n      <td>1</td>\n      <td>0</td>\n      <td>0</td>\n      <td>1</td>\n      <td>0</td>\n      <td>0</td>\n      <td>0</td>\n      <td>...</td>\n      <td>1</td>\n      <td>1</td>\n      <td>0</td>\n      <td>1</td>\n      <td>0</td>\n      <td>1</td>\n      <td>1</td>\n      <td>0</td>\n      <td>0</td>\n      <td>0</td>\n    </tr>\n    <tr>\n      <th>5</th>\n      <td>0</td>\n      <td>0</td>\n      <td>1</td>\n      <td>1</td>\n      <td>0</td>\n      <td>0</td>\n      <td>1</td>\n      <td>1</td>\n      <td>1</td>\n      <td>0</td>\n      <td>...</td>\n      <td>0</td>\n      <td>0</td>\n      <td>1</td>\n      <td>1</td>\n      <td>0</td>\n      <td>0</td>\n      <td>0</td>\n      <td>0</td>\n      <td>0</td>\n      <td>1</td>\n    </tr>\n    <tr>\n      <th>6</th>\n      <td>0</td>\n      <td>0</td>\n      <td>0</td>\n      <td>1</td>\n      <td>0</td>\n      <td>1</td>\n      <td>1</td>\n      <td>1</td>\n      <td>0</td>\n      <td>1</td>\n      <td>...</td>\n      <td>0</td>\n      <td>1</td>\n      <td>1</td>\n      <td>1</td>\n      <td>0</td>\n      <td>0</td>\n      <td>1</td>\n      <td>1</td>\n      <td>0</td>\n      <td>0</td>\n    </tr>\n    <tr>\n      <th>7</th>\n      <td>1</td>\n      <td>1</td>\n      <td>1</td>\n      <td>0</td>\n      <td>1</td>\n      <td>1</td>\n      <td>1</td>\n      <td>0</td>\n      <td>1</td>\n      <td>1</td>\n      <td>...</td>\n      <td>0</td>\n      <td>0</td>\n      <td>0</td>\n      <td>0</td>\n      <td>1</td>\n      <td>1</td>\n      <td>0</td>\n      <td>0</td>\n      <td>0</td>\n      <td>0</td>\n    </tr>\n    <tr>\n      <th>8</th>\n      <td>1</td>\n      <td>0</td>\n      <td>0</td>\n      <td>0</td>\n      <td>1</td>\n      <td>1</td>\n      <td>0</td>\n      <td>0</td>\n      <td>1</td>\n      <td>1</td>\n      <td>...</td>\n      <td>1</td>\n      <td>0</td>\n      <td>1</td>\n      <td>1</td>\n      <td>1</td>\n      <td>0</td>\n      <td>1</td>\n      <td>1</td>\n      <td>1</td>\n      <td>1</td>\n    </tr>\n    <tr>\n      <th>9</th>\n      <td>0</td>\n      <td>0</td>\n      <td>0</td>\n      <td>0</td>\n      <td>1</td>\n      <td>0</td>\n      <td>1</td>\n      <td>1</td>\n      <td>1</td>\n      <td>1</td>\n      <td>...</td>\n      <td>1</td>\n      <td>1</td>\n      <td>1</td>\n      <td>0</td>\n      <td>0</td>\n      <td>0</td>\n      <td>0</td>\n      <td>0</td>\n      <td>0</td>\n      <td>1</td>\n    </tr>\n  </tbody>\n</table>\n<p>10 rows × 2796 columns</p>\n</div>"
     },
     "execution_count": 109,
     "metadata": {},
     "output_type": "execute_result"
    }
   ],
   "source": [
    "# row=user id, column=tv program id\n",
    "df_user_likes[:10]"
   ],
   "metadata": {
    "collapsed": false,
    "pycharm": {
     "name": "#%%\n"
    }
   }
  },
  {
   "cell_type": "code",
   "execution_count": 110,
   "outputs": [],
   "source": [
    "# get liked tv programs of user_id=0\n",
    "user_id = 0\n",
    "tv_programs = df_user_likes.loc[user_id, df_user_likes.iloc[user_id] == 1].index"
   ],
   "metadata": {
    "collapsed": false,
    "pycharm": {
     "name": "#%%\n"
    }
   }
  },
  {
   "cell_type": "code",
   "execution_count": 112,
   "outputs": [
    {
     "data": {
      "text/plain": "       tv_program_id                title  rating  \\\n2                  1    The Little Master     NaN   \n3                  1    The Little Master       G   \n11                 5      The Mating Game     NaN   \n12                 5  Season 1, Episode 1       G   \n13                 5  Season 1, Episode 2       G   \n...              ...                  ...     ...   \n18770           2795  Season 1, Episode 4  18VLSC   \n18771           2795  Season 1, Episode 5  18VLSC   \n18772           2795  Season 1, Episode 6   18VLC   \n18773           2795  Season 1, Episode 7   18VLC   \n18774           2795  Season 1, Episode 8  18VLSC   \n\n                                             description  is_season season  \\\n2      For two decades, International Cricket star Sa...          0     -1   \n3      For two decades, International Cricket star Sa...          1      1   \n11     Join some extraordinary creatures on the ultim...          0     -1   \n12     The grasslands of our planet are some of the m...          1      1   \n13     The ocean is where life first experimented wit...          1      1   \n...                                                  ...        ...    ...   \n18770  Jackie finds out where Krista Collins is stayi...          1      1   \n18771  Jackie goes on a bender, threatening everythin...          1      1   \n18772  Jackie and Junior struggle to cope in the wake...          1      1   \n18773  When Jackie realises Junior's involved with Sh...          1      1   \n18774  Season Finale: Jackie and Ray try to return to...          1      1   \n\n       episode_id     category  \\\n2              -1  documentary   \n3               1  documentary   \n11             -1  documentary   \n12              1  documentary   \n13              2  documentary   \n...           ...          ...   \n18770           4        drama   \n18771           5        drama   \n18772           6        drama   \n18773           7        drama   \n18774           8        drama   \n\n                                               image_url  \\\n2      https://play-images-prod-ctf.tech.tvnz.co.nz/a...   \n3      data:image/png;base64,iVBORw0KGgoAAAANSUhEUgAA...   \n11     https://play-images-prod-ctf.tech.tvnz.co.nz/a...   \n12     data:image/jpeg;base64,/9j/4AAQSkZJRgABAQEASAB...   \n13     data:image/jpeg;base64,/9j/4AAQSkZJRgABAQEASAB...   \n...                                                  ...   \n18770  data:image/jpeg;base64,/9j/4AAQSkZJRgABAQEASAB...   \n18771  https://play-images-prod-ctf.tech.tvnz.co.nz/a...   \n18772  https://play-images-prod-ctf.tech.tvnz.co.nz/a...   \n18773  https://play-images-prod-ctf.tech.tvnz.co.nz/a...   \n18774  https://play-images-prod-ctf.tech.tvnz.co.nz/a...   \n\n                                file_name  \n2      documentary/the-little-master.html  \n3                                     NaN  \n11       documentary/the-mating-game.html  \n12                                    NaN  \n13                                    NaN  \n...                                   ...  \n18770                                 NaN  \n18771                                 NaN  \n18772                                 NaN  \n18773                                 NaN  \n18774                                 NaN  \n\n[9287 rows x 10 columns]",
      "text/html": "<div>\n<style scoped>\n    .dataframe tbody tr th:only-of-type {\n        vertical-align: middle;\n    }\n\n    .dataframe tbody tr th {\n        vertical-align: top;\n    }\n\n    .dataframe thead th {\n        text-align: right;\n    }\n</style>\n<table border=\"1\" class=\"dataframe\">\n  <thead>\n    <tr style=\"text-align: right;\">\n      <th></th>\n      <th>tv_program_id</th>\n      <th>title</th>\n      <th>rating</th>\n      <th>description</th>\n      <th>is_season</th>\n      <th>season</th>\n      <th>episode_id</th>\n      <th>category</th>\n      <th>image_url</th>\n      <th>file_name</th>\n    </tr>\n  </thead>\n  <tbody>\n    <tr>\n      <th>2</th>\n      <td>1</td>\n      <td>The Little Master</td>\n      <td>NaN</td>\n      <td>For two decades, International Cricket star Sa...</td>\n      <td>0</td>\n      <td>-1</td>\n      <td>-1</td>\n      <td>documentary</td>\n      <td>https://play-images-prod-ctf.tech.tvnz.co.nz/a...</td>\n      <td>documentary/the-little-master.html</td>\n    </tr>\n    <tr>\n      <th>3</th>\n      <td>1</td>\n      <td>The Little Master</td>\n      <td>G</td>\n      <td>For two decades, International Cricket star Sa...</td>\n      <td>1</td>\n      <td>1</td>\n      <td>1</td>\n      <td>documentary</td>\n      <td>data:image/png;base64,iVBORw0KGgoAAAANSUhEUgAA...</td>\n      <td>NaN</td>\n    </tr>\n    <tr>\n      <th>11</th>\n      <td>5</td>\n      <td>The Mating Game</td>\n      <td>NaN</td>\n      <td>Join some extraordinary creatures on the ultim...</td>\n      <td>0</td>\n      <td>-1</td>\n      <td>-1</td>\n      <td>documentary</td>\n      <td>https://play-images-prod-ctf.tech.tvnz.co.nz/a...</td>\n      <td>documentary/the-mating-game.html</td>\n    </tr>\n    <tr>\n      <th>12</th>\n      <td>5</td>\n      <td>Season 1, Episode 1</td>\n      <td>G</td>\n      <td>The grasslands of our planet are some of the m...</td>\n      <td>1</td>\n      <td>1</td>\n      <td>1</td>\n      <td>documentary</td>\n      <td>data:image/jpeg;base64,/9j/4AAQSkZJRgABAQEASAB...</td>\n      <td>NaN</td>\n    </tr>\n    <tr>\n      <th>13</th>\n      <td>5</td>\n      <td>Season 1, Episode 2</td>\n      <td>G</td>\n      <td>The ocean is where life first experimented wit...</td>\n      <td>1</td>\n      <td>1</td>\n      <td>2</td>\n      <td>documentary</td>\n      <td>data:image/jpeg;base64,/9j/4AAQSkZJRgABAQEASAB...</td>\n      <td>NaN</td>\n    </tr>\n    <tr>\n      <th>...</th>\n      <td>...</td>\n      <td>...</td>\n      <td>...</td>\n      <td>...</td>\n      <td>...</td>\n      <td>...</td>\n      <td>...</td>\n      <td>...</td>\n      <td>...</td>\n      <td>...</td>\n    </tr>\n    <tr>\n      <th>18770</th>\n      <td>2795</td>\n      <td>Season 1, Episode 4</td>\n      <td>18VLSC</td>\n      <td>Jackie finds out where Krista Collins is stayi...</td>\n      <td>1</td>\n      <td>1</td>\n      <td>4</td>\n      <td>drama</td>\n      <td>data:image/jpeg;base64,/9j/4AAQSkZJRgABAQEASAB...</td>\n      <td>NaN</td>\n    </tr>\n    <tr>\n      <th>18771</th>\n      <td>2795</td>\n      <td>Season 1, Episode 5</td>\n      <td>18VLSC</td>\n      <td>Jackie goes on a bender, threatening everythin...</td>\n      <td>1</td>\n      <td>1</td>\n      <td>5</td>\n      <td>drama</td>\n      <td>https://play-images-prod-ctf.tech.tvnz.co.nz/a...</td>\n      <td>NaN</td>\n    </tr>\n    <tr>\n      <th>18772</th>\n      <td>2795</td>\n      <td>Season 1, Episode 6</td>\n      <td>18VLC</td>\n      <td>Jackie and Junior struggle to cope in the wake...</td>\n      <td>1</td>\n      <td>1</td>\n      <td>6</td>\n      <td>drama</td>\n      <td>https://play-images-prod-ctf.tech.tvnz.co.nz/a...</td>\n      <td>NaN</td>\n    </tr>\n    <tr>\n      <th>18773</th>\n      <td>2795</td>\n      <td>Season 1, Episode 7</td>\n      <td>18VLC</td>\n      <td>When Jackie realises Junior's involved with Sh...</td>\n      <td>1</td>\n      <td>1</td>\n      <td>7</td>\n      <td>drama</td>\n      <td>https://play-images-prod-ctf.tech.tvnz.co.nz/a...</td>\n      <td>NaN</td>\n    </tr>\n    <tr>\n      <th>18774</th>\n      <td>2795</td>\n      <td>Season 1, Episode 8</td>\n      <td>18VLSC</td>\n      <td>Season Finale: Jackie and Ray try to return to...</td>\n      <td>1</td>\n      <td>1</td>\n      <td>8</td>\n      <td>drama</td>\n      <td>https://play-images-prod-ctf.tech.tvnz.co.nz/a...</td>\n      <td>NaN</td>\n    </tr>\n  </tbody>\n</table>\n<p>9287 rows × 10 columns</p>\n</div>"
     },
     "execution_count": 112,
     "metadata": {},
     "output_type": "execute_result"
    }
   ],
   "source": [
    "df_tv_programs[df_tv_programs.tv_program_id.isin(tv_programs)]"
   ],
   "metadata": {
    "collapsed": false,
    "pycharm": {
     "name": "#%%\n"
    }
   }
  },
  {
   "cell_type": "code",
   "execution_count": 114,
   "outputs": [],
   "source": [
    "df_user_likes.iloc[:2] = 0"
   ],
   "metadata": {
    "collapsed": false,
    "pycharm": {
     "name": "#%%\n"
    }
   }
  },
  {
   "cell_type": "code",
   "execution_count": 119,
   "outputs": [],
   "source": [
    "df_user_likes.to_csv('../data/user_x_tvprogram_likes.csv', index=False)"
   ],
   "metadata": {
    "collapsed": false,
    "pycharm": {
     "name": "#%%\n"
    }
   }
  },
  {
   "cell_type": "code",
   "execution_count": 121,
   "outputs": [
    {
     "data": {
      "text/plain": "   0  1  2  3  4  5  6  7  8  9  ...  2786  2787  2788  2789  2790  2791  \\\n0  0  0  0  0  0  0  0  0  0  0  ...     0     0     0     0     0     0   \n1  0  0  0  0  0  0  0  0  0  0  ...     0     0     0     0     0     0   \n2  0  1  1  0  1  0  0  0  1  0  ...     1     0     0     1     1     0   \n3  0  1  1  0  0  0  1  1  0  0  ...     1     1     1     0     1     1   \n4  1  0  0  1  0  0  1  0  0  0  ...     1     1     0     1     0     1   \n5  0  0  1  1  0  0  1  1  1  0  ...     0     0     1     1     0     0   \n6  0  0  0  1  0  1  1  1  0  1  ...     0     1     1     1     0     0   \n7  1  1  1  0  1  1  1  0  1  1  ...     0     0     0     0     1     1   \n8  1  0  0  0  1  1  0  0  1  1  ...     1     0     1     1     1     0   \n9  0  0  0  0  1  0  1  1  1  1  ...     1     1     1     0     0     0   \n\n   2792  2793  2794  2795  \n0     0     0     0     0  \n1     0     0     0     0  \n2     1     1     0     1  \n3     1     0     1     0  \n4     1     0     0     0  \n5     0     0     0     1  \n6     1     1     0     0  \n7     0     0     0     0  \n8     1     1     1     1  \n9     0     0     0     1  \n\n[10 rows x 2796 columns]",
      "text/html": "<div>\n<style scoped>\n    .dataframe tbody tr th:only-of-type {\n        vertical-align: middle;\n    }\n\n    .dataframe tbody tr th {\n        vertical-align: top;\n    }\n\n    .dataframe thead th {\n        text-align: right;\n    }\n</style>\n<table border=\"1\" class=\"dataframe\">\n  <thead>\n    <tr style=\"text-align: right;\">\n      <th></th>\n      <th>0</th>\n      <th>1</th>\n      <th>2</th>\n      <th>3</th>\n      <th>4</th>\n      <th>5</th>\n      <th>6</th>\n      <th>7</th>\n      <th>8</th>\n      <th>9</th>\n      <th>...</th>\n      <th>2786</th>\n      <th>2787</th>\n      <th>2788</th>\n      <th>2789</th>\n      <th>2790</th>\n      <th>2791</th>\n      <th>2792</th>\n      <th>2793</th>\n      <th>2794</th>\n      <th>2795</th>\n    </tr>\n  </thead>\n  <tbody>\n    <tr>\n      <th>0</th>\n      <td>0</td>\n      <td>0</td>\n      <td>0</td>\n      <td>0</td>\n      <td>0</td>\n      <td>0</td>\n      <td>0</td>\n      <td>0</td>\n      <td>0</td>\n      <td>0</td>\n      <td>...</td>\n      <td>0</td>\n      <td>0</td>\n      <td>0</td>\n      <td>0</td>\n      <td>0</td>\n      <td>0</td>\n      <td>0</td>\n      <td>0</td>\n      <td>0</td>\n      <td>0</td>\n    </tr>\n    <tr>\n      <th>1</th>\n      <td>0</td>\n      <td>0</td>\n      <td>0</td>\n      <td>0</td>\n      <td>0</td>\n      <td>0</td>\n      <td>0</td>\n      <td>0</td>\n      <td>0</td>\n      <td>0</td>\n      <td>...</td>\n      <td>0</td>\n      <td>0</td>\n      <td>0</td>\n      <td>0</td>\n      <td>0</td>\n      <td>0</td>\n      <td>0</td>\n      <td>0</td>\n      <td>0</td>\n      <td>0</td>\n    </tr>\n    <tr>\n      <th>2</th>\n      <td>0</td>\n      <td>1</td>\n      <td>1</td>\n      <td>0</td>\n      <td>1</td>\n      <td>0</td>\n      <td>0</td>\n      <td>0</td>\n      <td>1</td>\n      <td>0</td>\n      <td>...</td>\n      <td>1</td>\n      <td>0</td>\n      <td>0</td>\n      <td>1</td>\n      <td>1</td>\n      <td>0</td>\n      <td>1</td>\n      <td>1</td>\n      <td>0</td>\n      <td>1</td>\n    </tr>\n    <tr>\n      <th>3</th>\n      <td>0</td>\n      <td>1</td>\n      <td>1</td>\n      <td>0</td>\n      <td>0</td>\n      <td>0</td>\n      <td>1</td>\n      <td>1</td>\n      <td>0</td>\n      <td>0</td>\n      <td>...</td>\n      <td>1</td>\n      <td>1</td>\n      <td>1</td>\n      <td>0</td>\n      <td>1</td>\n      <td>1</td>\n      <td>1</td>\n      <td>0</td>\n      <td>1</td>\n      <td>0</td>\n    </tr>\n    <tr>\n      <th>4</th>\n      <td>1</td>\n      <td>0</td>\n      <td>0</td>\n      <td>1</td>\n      <td>0</td>\n      <td>0</td>\n      <td>1</td>\n      <td>0</td>\n      <td>0</td>\n      <td>0</td>\n      <td>...</td>\n      <td>1</td>\n      <td>1</td>\n      <td>0</td>\n      <td>1</td>\n      <td>0</td>\n      <td>1</td>\n      <td>1</td>\n      <td>0</td>\n      <td>0</td>\n      <td>0</td>\n    </tr>\n    <tr>\n      <th>5</th>\n      <td>0</td>\n      <td>0</td>\n      <td>1</td>\n      <td>1</td>\n      <td>0</td>\n      <td>0</td>\n      <td>1</td>\n      <td>1</td>\n      <td>1</td>\n      <td>0</td>\n      <td>...</td>\n      <td>0</td>\n      <td>0</td>\n      <td>1</td>\n      <td>1</td>\n      <td>0</td>\n      <td>0</td>\n      <td>0</td>\n      <td>0</td>\n      <td>0</td>\n      <td>1</td>\n    </tr>\n    <tr>\n      <th>6</th>\n      <td>0</td>\n      <td>0</td>\n      <td>0</td>\n      <td>1</td>\n      <td>0</td>\n      <td>1</td>\n      <td>1</td>\n      <td>1</td>\n      <td>0</td>\n      <td>1</td>\n      <td>...</td>\n      <td>0</td>\n      <td>1</td>\n      <td>1</td>\n      <td>1</td>\n      <td>0</td>\n      <td>0</td>\n      <td>1</td>\n      <td>1</td>\n      <td>0</td>\n      <td>0</td>\n    </tr>\n    <tr>\n      <th>7</th>\n      <td>1</td>\n      <td>1</td>\n      <td>1</td>\n      <td>0</td>\n      <td>1</td>\n      <td>1</td>\n      <td>1</td>\n      <td>0</td>\n      <td>1</td>\n      <td>1</td>\n      <td>...</td>\n      <td>0</td>\n      <td>0</td>\n      <td>0</td>\n      <td>0</td>\n      <td>1</td>\n      <td>1</td>\n      <td>0</td>\n      <td>0</td>\n      <td>0</td>\n      <td>0</td>\n    </tr>\n    <tr>\n      <th>8</th>\n      <td>1</td>\n      <td>0</td>\n      <td>0</td>\n      <td>0</td>\n      <td>1</td>\n      <td>1</td>\n      <td>0</td>\n      <td>0</td>\n      <td>1</td>\n      <td>1</td>\n      <td>...</td>\n      <td>1</td>\n      <td>0</td>\n      <td>1</td>\n      <td>1</td>\n      <td>1</td>\n      <td>0</td>\n      <td>1</td>\n      <td>1</td>\n      <td>1</td>\n      <td>1</td>\n    </tr>\n    <tr>\n      <th>9</th>\n      <td>0</td>\n      <td>0</td>\n      <td>0</td>\n      <td>0</td>\n      <td>1</td>\n      <td>0</td>\n      <td>1</td>\n      <td>1</td>\n      <td>1</td>\n      <td>1</td>\n      <td>...</td>\n      <td>1</td>\n      <td>1</td>\n      <td>1</td>\n      <td>0</td>\n      <td>0</td>\n      <td>0</td>\n      <td>0</td>\n      <td>0</td>\n      <td>0</td>\n      <td>1</td>\n    </tr>\n  </tbody>\n</table>\n<p>10 rows × 2796 columns</p>\n</div>"
     },
     "execution_count": 121,
     "metadata": {},
     "output_type": "execute_result"
    }
   ],
   "source": [
    "# row=user id, column=tv program id\n",
    "pd.read_csv('../data/user_x_tvprogram_likes.csv').head(10)"
   ],
   "metadata": {
    "collapsed": false,
    "pycharm": {
     "name": "#%%\n"
    }
   }
  },
  {
   "cell_type": "markdown",
   "source": [
    "Plot Trend of categories"
   ],
   "metadata": {
    "collapsed": false
   }
  },
  {
   "cell_type": "code",
   "execution_count": 150,
   "outputs": [
    {
     "name": "stdout",
     "output_type": "stream",
     "text": [
      "CPU times: user 8.07 s, sys: 25.8 ms, total: 8.1 s\n",
      "Wall time: 8.1 s\n"
     ]
    }
   ],
   "source": [
    "%%time\n",
    "\n",
    "categories_likes = {}\n",
    "\n",
    "for user_id in range(len(df_user_likes)):\n",
    "    tv_programs = df_user_likes.loc[user_id, df_user_likes.iloc[user_id] == 1].index\n",
    "    categories = df_tv_programs[df_tv_programs.tv_program_id.isin(tv_programs) & (df_tv_programs.is_season == 0)]['category']\n",
    "\n",
    "    for category in categories:\n",
    "        if category in categories_likes:\n",
    "            categories_likes[category] = categories_likes[category] + 1\n",
    "        else:\n",
    "            categories_likes[category] = 1"
   ],
   "metadata": {
    "collapsed": false,
    "pycharm": {
     "name": "#%%\n"
    }
   }
  },
  {
   "cell_type": "code",
   "execution_count": 158,
   "outputs": [],
   "source": [
    "df_trend_likes = pd.DataFrame(categories_likes.values(), index=categories_likes.keys(), columns=['likes']).sort_values(by='likes')"
   ],
   "metadata": {
    "collapsed": false,
    "pycharm": {
     "name": "#%%\n"
    }
   }
  },
  {
   "cell_type": "code",
   "execution_count": 159,
   "outputs": [
    {
     "data": {
      "text/plain": "                        likes\nnews-current-affairs    75071\nfood                   179594\nnatural-world          180082\nte-ao-maori            239944\ntrue-crime             254925\nsport                  299581\npreschool              339770\nreality                404471\nmovies                 758877\ncomedy                 780615\nkids                   845340\ndocumentary           1149388\nfactual               1550207\nlocal                 1649562\ndrama                 1823916\nfull-seasons          3444147",
      "text/html": "<div>\n<style scoped>\n    .dataframe tbody tr th:only-of-type {\n        vertical-align: middle;\n    }\n\n    .dataframe tbody tr th {\n        vertical-align: top;\n    }\n\n    .dataframe thead th {\n        text-align: right;\n    }\n</style>\n<table border=\"1\" class=\"dataframe\">\n  <thead>\n    <tr style=\"text-align: right;\">\n      <th></th>\n      <th>likes</th>\n    </tr>\n  </thead>\n  <tbody>\n    <tr>\n      <th>news-current-affairs</th>\n      <td>75071</td>\n    </tr>\n    <tr>\n      <th>food</th>\n      <td>179594</td>\n    </tr>\n    <tr>\n      <th>natural-world</th>\n      <td>180082</td>\n    </tr>\n    <tr>\n      <th>te-ao-maori</th>\n      <td>239944</td>\n    </tr>\n    <tr>\n      <th>true-crime</th>\n      <td>254925</td>\n    </tr>\n    <tr>\n      <th>sport</th>\n      <td>299581</td>\n    </tr>\n    <tr>\n      <th>preschool</th>\n      <td>339770</td>\n    </tr>\n    <tr>\n      <th>reality</th>\n      <td>404471</td>\n    </tr>\n    <tr>\n      <th>movies</th>\n      <td>758877</td>\n    </tr>\n    <tr>\n      <th>comedy</th>\n      <td>780615</td>\n    </tr>\n    <tr>\n      <th>kids</th>\n      <td>845340</td>\n    </tr>\n    <tr>\n      <th>documentary</th>\n      <td>1149388</td>\n    </tr>\n    <tr>\n      <th>factual</th>\n      <td>1550207</td>\n    </tr>\n    <tr>\n      <th>local</th>\n      <td>1649562</td>\n    </tr>\n    <tr>\n      <th>drama</th>\n      <td>1823916</td>\n    </tr>\n    <tr>\n      <th>full-seasons</th>\n      <td>3444147</td>\n    </tr>\n  </tbody>\n</table>\n</div>"
     },
     "execution_count": 159,
     "metadata": {},
     "output_type": "execute_result"
    }
   ],
   "source": [
    "df_trend_likes"
   ],
   "metadata": {
    "collapsed": false,
    "pycharm": {
     "name": "#%%\n"
    }
   }
  },
  {
   "cell_type": "code",
   "execution_count": 162,
   "outputs": [
    {
     "data": {
      "text/plain": "<Figure size 720x432 with 1 Axes>",
      "image/png": "[encoded data removed]"
     },
     "metadata": {
      "needs_background": "light"
     },
     "output_type": "display_data"
    }
   ],
   "source": [
    "df_trend_likes.plot.barh(\n",
    "    figsize=(10,6),\n",
    "    title='Trend of categories, x*1e6'\n",
    ");"
   ],
   "metadata": {
    "collapsed": false,
    "pycharm": {
     "name": "#%%\n"
    }
   }
  },
  {
   "cell_type": "markdown",
   "source": [
    "Plot likes of a user id"
   ],
   "metadata": {
    "collapsed": false,
    "pycharm": {
     "name": "#%% md\n"
    }
   }
  },
  {
   "cell_type": "code",
   "execution_count": 164,
   "outputs": [],
   "source": [
    "categories_likes = {}\n",
    "user_id = 100\n",
    "\n",
    "tv_programs = df_user_likes.loc[user_id, df_user_likes.iloc[user_id] == 1].index\n",
    "categories = df_tv_programs[df_tv_programs.tv_program_id.isin(tv_programs) & (df_tv_programs.is_season == 0)]['category']\n",
    "\n",
    "for category in categories:\n",
    "    if category in categories_likes:\n",
    "        categories_likes[category] = categories_likes[category] + 1\n",
    "    else:\n",
    "        categories_likes[category] = 1"
   ],
   "metadata": {
    "collapsed": false,
    "pycharm": {
     "name": "#%%\n"
    }
   }
  },
  {
   "cell_type": "code",
   "execution_count": 165,
   "outputs": [
    {
     "data": {
      "text/plain": "<Figure size 720x432 with 1 Axes>",
      "image/png": "[encoded data removed]"
     },
     "metadata": {
      "needs_background": "light"
     },
     "output_type": "display_data"
    }
   ],
   "source": [
    "pd.DataFrame(categories_likes.values(), index=categories_likes.keys(), columns=['likes']).sort_values(by='likes').plot.barh(\n",
    "    figsize=(10,6),\n",
    "    title=f'Distribution of likes, userid={user_id}'\n",
    ");"
   ],
   "metadata": {
    "collapsed": false,
    "pycharm": {
     "name": "#%%\n"
    }
   }
  },
  {
   "cell_type": "markdown",
   "source": [
    "Create Cosine Similarity, higher the more similar"
   ],
   "metadata": {
    "collapsed": false
   }
  },
  {
   "cell_type": "code",
   "execution_count": 14,
   "outputs": [],
   "source": [
    "df_likes = pd.read_csv('../data/user_x_tvprogram_likes.csv')\n",
    "matrix = df_likes.to_numpy()"
   ],
   "metadata": {
    "collapsed": false,
    "pycharm": {
     "name": "#%%\n"
    }
   }
  },
  {
   "cell_type": "code",
   "execution_count": 21,
   "outputs": [
    {
     "name": "stderr",
     "output_type": "stream",
     "text": [
      "100%|██████████| 2796/2796 [21:33<00:00,  2.16it/s]"
     ]
    },
    {
     "name": "stdout",
     "output_type": "stream",
     "text": [
      "CPU times: user 13min 27s, sys: 8min 4s, total: 21min 32s\n",
      "Wall time: 21min 33s\n"
     ]
    },
    {
     "name": "stderr",
     "output_type": "stream",
     "text": [
      "\n"
     ]
    }
   ],
   "source": [
    "%%time\n",
    "\n",
    "from tqdm import tqdm\n",
    "\n",
    "to_store = []\n",
    "L = matrix.shape[-1]\n",
    "\n",
    "for item_a in tqdm(range(L)):\n",
    "    item_aa = [matrix[:, item_a]]\n",
    "\n",
    "    for item_b in range(L):\n",
    "        if item_a == item_b:\n",
    "            continue\n",
    "\n",
    "        item_bb = [matrix[:, item_b]]\n",
    "\n",
    "        cosine_sim = cosine_similarity(item_aa, item_bb)[0][0]\n",
    "\n",
    "        to_store.append({\n",
    "            'tv_show_idx': item_a,\n",
    "            'tv_show_idy': item_b,\n",
    "            'score': cosine_sim\n",
    "        })"
   ],
   "metadata": {
    "collapsed": false,
    "pycharm": {
     "name": "#%%\n"
    }
   }
  },
  {
   "cell_type": "code",
   "execution_count": 26,
   "outputs": [],
   "source": [
    "pd.DataFrame(to_store).to_csv('../data/recommendation_cosine_similarity.csv', index=False)"
   ],
   "metadata": {
    "collapsed": false,
    "pycharm": {
     "name": "#%%\n"
    }
   }
  },
  {
   "cell_type": "code",
   "execution_count": null,
   "outputs": [],
   "source": [],
   "metadata": {
    "collapsed": false,
    "pycharm": {
     "name": "#%%\n"
    }
   }
  }
 ],
 "metadata": {
  "kernelspec": {
   "display_name": "Python 3",
   "language": "python",
   "name": "python3"
  },
  "language_info": {
   "codemirror_mode": {
    "name": "ipython",
    "version": 2
   },
   "file_extension": ".py",
   "mimetype": "text/x-python",
   "name": "python",
   "nbconvert_exporter": "python",
   "pygments_lexer": "ipython2",
   "version": "2.7.6"
  }
 },
 "nbformat": 4,
 "nbformat_minor": 0
}